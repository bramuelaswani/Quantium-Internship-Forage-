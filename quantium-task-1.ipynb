{
 "cells": [
  {
   "cell_type": "markdown",
   "id": "a6428e66",
   "metadata": {},
   "source": [
    "## TASK-1 [Data preparation and customer analytics]\n"
   ]
  },
  {
   "cell_type": "code",
   "execution_count": 1,
   "id": "676f9e86",
   "metadata": {},
   "outputs": [],
   "source": [
    "import pandas as pd\n",
    "import matplotlib.pyplot as plt\n",
    "import seaborn as sns\n",
    "import numpy as np"
   ]
  },
  {
   "cell_type": "markdown",
   "id": "bc4812ed",
   "metadata": {},
   "source": [
    "## Loading the Datasets"
   ]
  },
  {
   "cell_type": "code",
   "execution_count": 2,
   "id": "724e0212",
   "metadata": {
    "scrolled": true
   },
   "outputs": [],
   "source": [
    "df_purchase=pd.read_csv('QVI_purchase_behaviour.csv')\n",
    "df_transactions=pd.read_excel('QVI_transaction.xlsx')\n"
   ]
  },
  {
   "cell_type": "markdown",
   "id": "0b81de6e",
   "metadata": {},
   "source": [
    "# DATA CLEANING FOR CUSTOMER PURCHASE DATASET"
   ]
  },
  {
   "cell_type": "code",
   "execution_count": 3,
   "id": "96d98e41",
   "metadata": {},
   "outputs": [
    {
     "data": {
      "text/html": [
       "<div>\n",
       "<style scoped>\n",
       "    .dataframe tbody tr th:only-of-type {\n",
       "        vertical-align: middle;\n",
       "    }\n",
       "\n",
       "    .dataframe tbody tr th {\n",
       "        vertical-align: top;\n",
       "    }\n",
       "\n",
       "    .dataframe thead th {\n",
       "        text-align: right;\n",
       "    }\n",
       "</style>\n",
       "<table border=\"1\" class=\"dataframe\">\n",
       "  <thead>\n",
       "    <tr style=\"text-align: right;\">\n",
       "      <th></th>\n",
       "      <th>LYLTY_CARD_NBR</th>\n",
       "      <th>LIFESTAGE</th>\n",
       "      <th>PREMIUM_CUSTOMER</th>\n",
       "    </tr>\n",
       "  </thead>\n",
       "  <tbody>\n",
       "    <tr>\n",
       "      <th>0</th>\n",
       "      <td>1000</td>\n",
       "      <td>YOUNG SINGLES/COUPLES</td>\n",
       "      <td>Premium</td>\n",
       "    </tr>\n",
       "    <tr>\n",
       "      <th>1</th>\n",
       "      <td>1002</td>\n",
       "      <td>YOUNG SINGLES/COUPLES</td>\n",
       "      <td>Mainstream</td>\n",
       "    </tr>\n",
       "    <tr>\n",
       "      <th>2</th>\n",
       "      <td>1003</td>\n",
       "      <td>YOUNG FAMILIES</td>\n",
       "      <td>Budget</td>\n",
       "    </tr>\n",
       "    <tr>\n",
       "      <th>3</th>\n",
       "      <td>1004</td>\n",
       "      <td>OLDER SINGLES/COUPLES</td>\n",
       "      <td>Mainstream</td>\n",
       "    </tr>\n",
       "    <tr>\n",
       "      <th>4</th>\n",
       "      <td>1005</td>\n",
       "      <td>MIDAGE SINGLES/COUPLES</td>\n",
       "      <td>Mainstream</td>\n",
       "    </tr>\n",
       "  </tbody>\n",
       "</table>\n",
       "</div>"
      ],
      "text/plain": [
       "   LYLTY_CARD_NBR               LIFESTAGE PREMIUM_CUSTOMER\n",
       "0            1000   YOUNG SINGLES/COUPLES          Premium\n",
       "1            1002   YOUNG SINGLES/COUPLES       Mainstream\n",
       "2            1003          YOUNG FAMILIES           Budget\n",
       "3            1004   OLDER SINGLES/COUPLES       Mainstream\n",
       "4            1005  MIDAGE SINGLES/COUPLES       Mainstream"
      ]
     },
     "execution_count": 3,
     "metadata": {},
     "output_type": "execute_result"
    }
   ],
   "source": [
    "df_purchase.head()"
   ]
  },
  {
   "cell_type": "code",
   "execution_count": 4,
   "id": "8f1d20be",
   "metadata": {},
   "outputs": [
    {
     "data": {
      "text/plain": [
       "(72637, 3)"
      ]
     },
     "execution_count": 4,
     "metadata": {},
     "output_type": "execute_result"
    }
   ],
   "source": [
    "df_purchase.shape"
   ]
  },
  {
   "cell_type": "markdown",
   "id": "c1104fe4",
   "metadata": {},
   "source": [
    "## Check Data Types"
   ]
  },
  {
   "cell_type": "code",
   "execution_count": 5,
   "id": "619f44de",
   "metadata": {
    "scrolled": true
   },
   "outputs": [
    {
     "data": {
      "text/html": [
       "<div>\n",
       "<style scoped>\n",
       "    .dataframe tbody tr th:only-of-type {\n",
       "        vertical-align: middle;\n",
       "    }\n",
       "\n",
       "    .dataframe tbody tr th {\n",
       "        vertical-align: top;\n",
       "    }\n",
       "\n",
       "    .dataframe thead th {\n",
       "        text-align: right;\n",
       "    }\n",
       "</style>\n",
       "<table border=\"1\" class=\"dataframe\">\n",
       "  <thead>\n",
       "    <tr style=\"text-align: right;\">\n",
       "      <th></th>\n",
       "      <th>Data type</th>\n",
       "    </tr>\n",
       "  </thead>\n",
       "  <tbody>\n",
       "    <tr>\n",
       "      <th>LYLTY_CARD_NBR</th>\n",
       "      <td>int64</td>\n",
       "    </tr>\n",
       "    <tr>\n",
       "      <th>LIFESTAGE</th>\n",
       "      <td>object</td>\n",
       "    </tr>\n",
       "    <tr>\n",
       "      <th>PREMIUM_CUSTOMER</th>\n",
       "      <td>object</td>\n",
       "    </tr>\n",
       "  </tbody>\n",
       "</table>\n",
       "</div>"
      ],
      "text/plain": [
       "                 Data type\n",
       "LYLTY_CARD_NBR       int64\n",
       "LIFESTAGE           object\n",
       "PREMIUM_CUSTOMER    object"
      ]
     },
     "execution_count": 5,
     "metadata": {},
     "output_type": "execute_result"
    }
   ],
   "source": [
    "pd.DataFrame({\"Data type\":df_purchase.dtypes})"
   ]
  },
  {
   "cell_type": "markdown",
   "id": "a079e2c2",
   "metadata": {},
   "source": [
    "# Check missing values"
   ]
  },
  {
   "cell_type": "code",
   "execution_count": 6,
   "id": "0c760001",
   "metadata": {
    "scrolled": true
   },
   "outputs": [
    {
     "data": {
      "text/plain": [
       "LYLTY_CARD_NBR      0\n",
       "LIFESTAGE           0\n",
       "PREMIUM_CUSTOMER    0\n",
       "dtype: int64"
      ]
     },
     "execution_count": 6,
     "metadata": {},
     "output_type": "execute_result"
    }
   ],
   "source": [
    "df_purchase.isnull().sum()"
   ]
  },
  {
   "cell_type": "markdown",
   "id": "edf580e0",
   "metadata": {},
   "source": [
    "## Check Data Consistency"
   ]
  },
  {
   "cell_type": "code",
   "execution_count": 7,
   "id": "db12e22e",
   "metadata": {
    "scrolled": true
   },
   "outputs": [
    {
     "data": {
      "text/plain": [
       "RETIREES                  14805\n",
       "OLDER SINGLES/COUPLES     14609\n",
       "YOUNG SINGLES/COUPLES     14441\n",
       "OLDER FAMILIES             9780\n",
       "YOUNG FAMILIES             9178\n",
       "MIDAGE SINGLES/COUPLES     7275\n",
       "NEW FAMILIES               2549\n",
       "Name: LIFESTAGE, dtype: int64"
      ]
     },
     "execution_count": 7,
     "metadata": {},
     "output_type": "execute_result"
    }
   ],
   "source": [
    "df_purchase['LIFESTAGE'].value_counts()"
   ]
  },
  {
   "cell_type": "code",
   "execution_count": 8,
   "id": "7ac680ee",
   "metadata": {
    "scrolled": true
   },
   "outputs": [
    {
     "data": {
      "text/plain": [
       "Mainstream    29245\n",
       "Budget        24470\n",
       "Premium       18922\n",
       "Name: PREMIUM_CUSTOMER, dtype: int64"
      ]
     },
     "execution_count": 8,
     "metadata": {},
     "output_type": "execute_result"
    }
   ],
   "source": [
    "df_purchase['PREMIUM_CUSTOMER'].value_counts()"
   ]
  },
  {
   "cell_type": "markdown",
   "id": "06dd721f",
   "metadata": {},
   "source": [
    "# DATA CLEANING FOR TRANSACTIONS DATASET"
   ]
  },
  {
   "cell_type": "code",
   "execution_count": 9,
   "id": "929673eb",
   "metadata": {
    "scrolled": false
   },
   "outputs": [
    {
     "data": {
      "text/html": [
       "<div>\n",
       "<style scoped>\n",
       "    .dataframe tbody tr th:only-of-type {\n",
       "        vertical-align: middle;\n",
       "    }\n",
       "\n",
       "    .dataframe tbody tr th {\n",
       "        vertical-align: top;\n",
       "    }\n",
       "\n",
       "    .dataframe thead th {\n",
       "        text-align: right;\n",
       "    }\n",
       "</style>\n",
       "<table border=\"1\" class=\"dataframe\">\n",
       "  <thead>\n",
       "    <tr style=\"text-align: right;\">\n",
       "      <th></th>\n",
       "      <th>DATE</th>\n",
       "      <th>STORE_NBR</th>\n",
       "      <th>LYLTY_CARD_NBR</th>\n",
       "      <th>TXN_ID</th>\n",
       "      <th>PROD_NBR</th>\n",
       "      <th>PROD_NAME</th>\n",
       "      <th>PROD_QTY</th>\n",
       "      <th>TOT_SALES</th>\n",
       "    </tr>\n",
       "  </thead>\n",
       "  <tbody>\n",
       "    <tr>\n",
       "      <th>0</th>\n",
       "      <td>43390</td>\n",
       "      <td>1</td>\n",
       "      <td>1000</td>\n",
       "      <td>1</td>\n",
       "      <td>5</td>\n",
       "      <td>Natural Chip        Compny SeaSalt175g</td>\n",
       "      <td>2</td>\n",
       "      <td>6.0</td>\n",
       "    </tr>\n",
       "    <tr>\n",
       "      <th>1</th>\n",
       "      <td>43599</td>\n",
       "      <td>1</td>\n",
       "      <td>1307</td>\n",
       "      <td>348</td>\n",
       "      <td>66</td>\n",
       "      <td>CCs Nacho Cheese    175g</td>\n",
       "      <td>3</td>\n",
       "      <td>6.3</td>\n",
       "    </tr>\n",
       "    <tr>\n",
       "      <th>2</th>\n",
       "      <td>43605</td>\n",
       "      <td>1</td>\n",
       "      <td>1343</td>\n",
       "      <td>383</td>\n",
       "      <td>61</td>\n",
       "      <td>Smiths Crinkle Cut  Chips Chicken 170g</td>\n",
       "      <td>2</td>\n",
       "      <td>2.9</td>\n",
       "    </tr>\n",
       "    <tr>\n",
       "      <th>3</th>\n",
       "      <td>43329</td>\n",
       "      <td>2</td>\n",
       "      <td>2373</td>\n",
       "      <td>974</td>\n",
       "      <td>69</td>\n",
       "      <td>Smiths Chip Thinly  S/Cream&amp;Onion 175g</td>\n",
       "      <td>5</td>\n",
       "      <td>15.0</td>\n",
       "    </tr>\n",
       "    <tr>\n",
       "      <th>4</th>\n",
       "      <td>43330</td>\n",
       "      <td>2</td>\n",
       "      <td>2426</td>\n",
       "      <td>1038</td>\n",
       "      <td>108</td>\n",
       "      <td>Kettle Tortilla ChpsHny&amp;Jlpno Chili 150g</td>\n",
       "      <td>3</td>\n",
       "      <td>13.8</td>\n",
       "    </tr>\n",
       "  </tbody>\n",
       "</table>\n",
       "</div>"
      ],
      "text/plain": [
       "    DATE  STORE_NBR  LYLTY_CARD_NBR  TXN_ID  PROD_NBR  \\\n",
       "0  43390          1            1000       1         5   \n",
       "1  43599          1            1307     348        66   \n",
       "2  43605          1            1343     383        61   \n",
       "3  43329          2            2373     974        69   \n",
       "4  43330          2            2426    1038       108   \n",
       "\n",
       "                                  PROD_NAME  PROD_QTY  TOT_SALES  \n",
       "0    Natural Chip        Compny SeaSalt175g         2        6.0  \n",
       "1                  CCs Nacho Cheese    175g         3        6.3  \n",
       "2    Smiths Crinkle Cut  Chips Chicken 170g         2        2.9  \n",
       "3    Smiths Chip Thinly  S/Cream&Onion 175g         5       15.0  \n",
       "4  Kettle Tortilla ChpsHny&Jlpno Chili 150g         3       13.8  "
      ]
     },
     "execution_count": 9,
     "metadata": {},
     "output_type": "execute_result"
    }
   ],
   "source": [
    "df_transactions.head()"
   ]
  },
  {
   "cell_type": "markdown",
   "id": "d61806ac",
   "metadata": {},
   "source": [
    "## Check for Data Types"
   ]
  },
  {
   "cell_type": "code",
   "execution_count": 10,
   "id": "126aa3b3",
   "metadata": {
    "scrolled": true
   },
   "outputs": [
    {
     "data": {
      "text/html": [
       "<div>\n",
       "<style scoped>\n",
       "    .dataframe tbody tr th:only-of-type {\n",
       "        vertical-align: middle;\n",
       "    }\n",
       "\n",
       "    .dataframe tbody tr th {\n",
       "        vertical-align: top;\n",
       "    }\n",
       "\n",
       "    .dataframe thead th {\n",
       "        text-align: right;\n",
       "    }\n",
       "</style>\n",
       "<table border=\"1\" class=\"dataframe\">\n",
       "  <thead>\n",
       "    <tr style=\"text-align: right;\">\n",
       "      <th></th>\n",
       "      <th>Data type</th>\n",
       "    </tr>\n",
       "  </thead>\n",
       "  <tbody>\n",
       "    <tr>\n",
       "      <th>DATE</th>\n",
       "      <td>int64</td>\n",
       "    </tr>\n",
       "    <tr>\n",
       "      <th>STORE_NBR</th>\n",
       "      <td>int64</td>\n",
       "    </tr>\n",
       "    <tr>\n",
       "      <th>LYLTY_CARD_NBR</th>\n",
       "      <td>int64</td>\n",
       "    </tr>\n",
       "    <tr>\n",
       "      <th>TXN_ID</th>\n",
       "      <td>int64</td>\n",
       "    </tr>\n",
       "    <tr>\n",
       "      <th>PROD_NBR</th>\n",
       "      <td>int64</td>\n",
       "    </tr>\n",
       "    <tr>\n",
       "      <th>PROD_NAME</th>\n",
       "      <td>object</td>\n",
       "    </tr>\n",
       "    <tr>\n",
       "      <th>PROD_QTY</th>\n",
       "      <td>int64</td>\n",
       "    </tr>\n",
       "    <tr>\n",
       "      <th>TOT_SALES</th>\n",
       "      <td>float64</td>\n",
       "    </tr>\n",
       "  </tbody>\n",
       "</table>\n",
       "</div>"
      ],
      "text/plain": [
       "               Data type\n",
       "DATE               int64\n",
       "STORE_NBR          int64\n",
       "LYLTY_CARD_NBR     int64\n",
       "TXN_ID             int64\n",
       "PROD_NBR           int64\n",
       "PROD_NAME         object\n",
       "PROD_QTY           int64\n",
       "TOT_SALES        float64"
      ]
     },
     "execution_count": 10,
     "metadata": {},
     "output_type": "execute_result"
    }
   ],
   "source": [
    "pd.DataFrame({\"Data type\":df_transactions.dtypes})"
   ]
  },
  {
   "cell_type": "code",
   "execution_count": 11,
   "id": "980521eb",
   "metadata": {},
   "outputs": [
    {
     "data": {
      "text/plain": [
       "(264836, 8)"
      ]
     },
     "execution_count": 11,
     "metadata": {},
     "output_type": "execute_result"
    }
   ],
   "source": [
    "df_transactions.shape"
   ]
  },
  {
   "cell_type": "markdown",
   "id": "e954bf18",
   "metadata": {},
   "source": [
    "## Statistical Information"
   ]
  },
  {
   "cell_type": "code",
   "execution_count": 12,
   "id": "c290052d",
   "metadata": {},
   "outputs": [
    {
     "data": {
      "text/html": [
       "<div>\n",
       "<style scoped>\n",
       "    .dataframe tbody tr th:only-of-type {\n",
       "        vertical-align: middle;\n",
       "    }\n",
       "\n",
       "    .dataframe tbody tr th {\n",
       "        vertical-align: top;\n",
       "    }\n",
       "\n",
       "    .dataframe thead th {\n",
       "        text-align: right;\n",
       "    }\n",
       "</style>\n",
       "<table border=\"1\" class=\"dataframe\">\n",
       "  <thead>\n",
       "    <tr style=\"text-align: right;\">\n",
       "      <th></th>\n",
       "      <th>DATE</th>\n",
       "      <th>STORE_NBR</th>\n",
       "      <th>LYLTY_CARD_NBR</th>\n",
       "      <th>TXN_ID</th>\n",
       "      <th>PROD_NBR</th>\n",
       "      <th>PROD_QTY</th>\n",
       "      <th>TOT_SALES</th>\n",
       "    </tr>\n",
       "  </thead>\n",
       "  <tbody>\n",
       "    <tr>\n",
       "      <th>count</th>\n",
       "      <td>264836.000000</td>\n",
       "      <td>264836.00000</td>\n",
       "      <td>2.648360e+05</td>\n",
       "      <td>2.648360e+05</td>\n",
       "      <td>264836.000000</td>\n",
       "      <td>264836.000000</td>\n",
       "      <td>264836.000000</td>\n",
       "    </tr>\n",
       "    <tr>\n",
       "      <th>mean</th>\n",
       "      <td>43464.036260</td>\n",
       "      <td>135.08011</td>\n",
       "      <td>1.355495e+05</td>\n",
       "      <td>1.351583e+05</td>\n",
       "      <td>56.583157</td>\n",
       "      <td>1.907309</td>\n",
       "      <td>7.304200</td>\n",
       "    </tr>\n",
       "    <tr>\n",
       "      <th>std</th>\n",
       "      <td>105.389282</td>\n",
       "      <td>76.78418</td>\n",
       "      <td>8.057998e+04</td>\n",
       "      <td>7.813303e+04</td>\n",
       "      <td>32.826638</td>\n",
       "      <td>0.643654</td>\n",
       "      <td>3.083226</td>\n",
       "    </tr>\n",
       "    <tr>\n",
       "      <th>min</th>\n",
       "      <td>43282.000000</td>\n",
       "      <td>1.00000</td>\n",
       "      <td>1.000000e+03</td>\n",
       "      <td>1.000000e+00</td>\n",
       "      <td>1.000000</td>\n",
       "      <td>1.000000</td>\n",
       "      <td>1.500000</td>\n",
       "    </tr>\n",
       "    <tr>\n",
       "      <th>25%</th>\n",
       "      <td>43373.000000</td>\n",
       "      <td>70.00000</td>\n",
       "      <td>7.002100e+04</td>\n",
       "      <td>6.760150e+04</td>\n",
       "      <td>28.000000</td>\n",
       "      <td>2.000000</td>\n",
       "      <td>5.400000</td>\n",
       "    </tr>\n",
       "    <tr>\n",
       "      <th>50%</th>\n",
       "      <td>43464.000000</td>\n",
       "      <td>130.00000</td>\n",
       "      <td>1.303575e+05</td>\n",
       "      <td>1.351375e+05</td>\n",
       "      <td>56.000000</td>\n",
       "      <td>2.000000</td>\n",
       "      <td>7.400000</td>\n",
       "    </tr>\n",
       "    <tr>\n",
       "      <th>75%</th>\n",
       "      <td>43555.000000</td>\n",
       "      <td>203.00000</td>\n",
       "      <td>2.030942e+05</td>\n",
       "      <td>2.027012e+05</td>\n",
       "      <td>85.000000</td>\n",
       "      <td>2.000000</td>\n",
       "      <td>9.200000</td>\n",
       "    </tr>\n",
       "    <tr>\n",
       "      <th>max</th>\n",
       "      <td>43646.000000</td>\n",
       "      <td>272.00000</td>\n",
       "      <td>2.373711e+06</td>\n",
       "      <td>2.415841e+06</td>\n",
       "      <td>114.000000</td>\n",
       "      <td>200.000000</td>\n",
       "      <td>650.000000</td>\n",
       "    </tr>\n",
       "  </tbody>\n",
       "</table>\n",
       "</div>"
      ],
      "text/plain": [
       "                DATE     STORE_NBR  LYLTY_CARD_NBR        TXN_ID  \\\n",
       "count  264836.000000  264836.00000    2.648360e+05  2.648360e+05   \n",
       "mean    43464.036260     135.08011    1.355495e+05  1.351583e+05   \n",
       "std       105.389282      76.78418    8.057998e+04  7.813303e+04   \n",
       "min     43282.000000       1.00000    1.000000e+03  1.000000e+00   \n",
       "25%     43373.000000      70.00000    7.002100e+04  6.760150e+04   \n",
       "50%     43464.000000     130.00000    1.303575e+05  1.351375e+05   \n",
       "75%     43555.000000     203.00000    2.030942e+05  2.027012e+05   \n",
       "max     43646.000000     272.00000    2.373711e+06  2.415841e+06   \n",
       "\n",
       "            PROD_NBR       PROD_QTY      TOT_SALES  \n",
       "count  264836.000000  264836.000000  264836.000000  \n",
       "mean       56.583157       1.907309       7.304200  \n",
       "std        32.826638       0.643654       3.083226  \n",
       "min         1.000000       1.000000       1.500000  \n",
       "25%        28.000000       2.000000       5.400000  \n",
       "50%        56.000000       2.000000       7.400000  \n",
       "75%        85.000000       2.000000       9.200000  \n",
       "max       114.000000     200.000000     650.000000  "
      ]
     },
     "execution_count": 12,
     "metadata": {},
     "output_type": "execute_result"
    }
   ],
   "source": [
    "df_transactions.describe()"
   ]
  },
  {
   "cell_type": "markdown",
   "id": "add6c8ec",
   "metadata": {},
   "source": [
    "## Missing values check"
   ]
  },
  {
   "cell_type": "code",
   "execution_count": 13,
   "id": "62ca63ce",
   "metadata": {},
   "outputs": [
    {
     "data": {
      "text/plain": [
       "DATE              0\n",
       "STORE_NBR         0\n",
       "LYLTY_CARD_NBR    0\n",
       "TXN_ID            0\n",
       "PROD_NBR          0\n",
       "PROD_NAME         0\n",
       "PROD_QTY          0\n",
       "TOT_SALES         0\n",
       "dtype: int64"
      ]
     },
     "execution_count": 13,
     "metadata": {},
     "output_type": "execute_result"
    }
   ],
   "source": [
    "df_transactions.isnull().sum()"
   ]
  },
  {
   "cell_type": "code",
   "execution_count": 14,
   "id": "a0f64a57",
   "metadata": {
    "scrolled": false
   },
   "outputs": [
    {
     "data": {
      "text/plain": [
       "Kettle Mozzarella   Basil & Pesto 175g      3304\n",
       "Kettle Tortilla ChpsHny&Jlpno Chili 150g    3296\n",
       "Cobs Popd Swt/Chlli &Sr/Cream Chips 110g    3269\n",
       "Tyrrells Crisps     Ched & Chives 165g      3268\n",
       "Cobs Popd Sea Salt  Chips 110g              3265\n",
       "                                            ... \n",
       "RRD Pc Sea Salt     165g                    1431\n",
       "Woolworths Medium   Salsa 300g              1430\n",
       "NCC Sour Cream &    Garden Chives 175g      1419\n",
       "French Fries Potato Chips 175g              1418\n",
       "WW Crinkle Cut      Original 175g           1410\n",
       "Name: PROD_NAME, Length: 114, dtype: int64"
      ]
     },
     "execution_count": 14,
     "metadata": {},
     "output_type": "execute_result"
    }
   ],
   "source": [
    "df_transactions.PROD_NAME.value_counts()"
   ]
  },
  {
   "cell_type": "markdown",
   "id": "48568277",
   "metadata": {},
   "source": [
    "## EXtract pack size from PROD_NAME Column"
   ]
  },
  {
   "cell_type": "code",
   "execution_count": 15,
   "id": "3fcf1363",
   "metadata": {},
   "outputs": [
    {
     "data": {
      "text/html": [
       "<div>\n",
       "<style scoped>\n",
       "    .dataframe tbody tr th:only-of-type {\n",
       "        vertical-align: middle;\n",
       "    }\n",
       "\n",
       "    .dataframe tbody tr th {\n",
       "        vertical-align: top;\n",
       "    }\n",
       "\n",
       "    .dataframe thead th {\n",
       "        text-align: right;\n",
       "    }\n",
       "</style>\n",
       "<table border=\"1\" class=\"dataframe\">\n",
       "  <thead>\n",
       "    <tr style=\"text-align: right;\">\n",
       "      <th></th>\n",
       "      <th>PROD_COMPANY</th>\n",
       "      <th>PACK_SIZE_GRAMS</th>\n",
       "    </tr>\n",
       "  </thead>\n",
       "  <tbody>\n",
       "    <tr>\n",
       "      <th>0</th>\n",
       "      <td>Natural Chip        Compny SeaSalt</td>\n",
       "      <td>175</td>\n",
       "    </tr>\n",
       "    <tr>\n",
       "      <th>1</th>\n",
       "      <td>CCs Nacho Cheese</td>\n",
       "      <td>175</td>\n",
       "    </tr>\n",
       "    <tr>\n",
       "      <th>2</th>\n",
       "      <td>Smiths Crinkle Cut  Chips Chicken</td>\n",
       "      <td>170</td>\n",
       "    </tr>\n",
       "    <tr>\n",
       "      <th>3</th>\n",
       "      <td>Smiths Chip Thinly  S/Cream&amp;Onion</td>\n",
       "      <td>175</td>\n",
       "    </tr>\n",
       "    <tr>\n",
       "      <th>4</th>\n",
       "      <td>Kettle Tortilla ChpsHny&amp;Jlpno Chili</td>\n",
       "      <td>150</td>\n",
       "    </tr>\n",
       "  </tbody>\n",
       "</table>\n",
       "</div>"
      ],
      "text/plain": [
       "                          PROD_COMPANY PACK_SIZE_GRAMS\n",
       "0   Natural Chip        Compny SeaSalt             175\n",
       "1                     CCs Nacho Cheese             175\n",
       "2    Smiths Crinkle Cut  Chips Chicken             170\n",
       "3    Smiths Chip Thinly  S/Cream&Onion             175\n",
       "4  Kettle Tortilla ChpsHny&Jlpno Chili             150"
      ]
     },
     "execution_count": 15,
     "metadata": {},
     "output_type": "execute_result"
    }
   ],
   "source": [
    "df_separated = (df_transactions['PROD_NAME'].str.extract(r'(?P<PROD_COMPANY>.*?)(?P<PACK_SIZE_GRAMS>\\d+(?:\\.\\d+)?)')\n",
    "                 .applymap(str.strip))\n",
    "df_separated.head()"
   ]
  },
  {
   "cell_type": "code",
   "execution_count": 16,
   "id": "c28cd4bc",
   "metadata": {
    "scrolled": true
   },
   "outputs": [
    {
     "data": {
      "text/html": [
       "<div>\n",
       "<style scoped>\n",
       "    .dataframe tbody tr th:only-of-type {\n",
       "        vertical-align: middle;\n",
       "    }\n",
       "\n",
       "    .dataframe tbody tr th {\n",
       "        vertical-align: top;\n",
       "    }\n",
       "\n",
       "    .dataframe thead th {\n",
       "        text-align: right;\n",
       "    }\n",
       "</style>\n",
       "<table border=\"1\" class=\"dataframe\">\n",
       "  <thead>\n",
       "    <tr style=\"text-align: right;\">\n",
       "      <th></th>\n",
       "      <th>DATE</th>\n",
       "      <th>STORE_NBR</th>\n",
       "      <th>LYLTY_CARD_NBR</th>\n",
       "      <th>TXN_ID</th>\n",
       "      <th>PROD_NBR</th>\n",
       "      <th>PROD_NAME</th>\n",
       "      <th>PROD_QTY</th>\n",
       "      <th>TOT_SALES</th>\n",
       "      <th>PROD_COMPANY</th>\n",
       "      <th>PACK_SIZE_GRAMS</th>\n",
       "    </tr>\n",
       "  </thead>\n",
       "  <tbody>\n",
       "    <tr>\n",
       "      <th>0</th>\n",
       "      <td>43390</td>\n",
       "      <td>1</td>\n",
       "      <td>1000</td>\n",
       "      <td>1</td>\n",
       "      <td>5</td>\n",
       "      <td>Natural Chip        Compny SeaSalt175g</td>\n",
       "      <td>2</td>\n",
       "      <td>6.0</td>\n",
       "      <td>Natural Chip        Compny SeaSalt</td>\n",
       "      <td>175</td>\n",
       "    </tr>\n",
       "    <tr>\n",
       "      <th>1</th>\n",
       "      <td>43599</td>\n",
       "      <td>1</td>\n",
       "      <td>1307</td>\n",
       "      <td>348</td>\n",
       "      <td>66</td>\n",
       "      <td>CCs Nacho Cheese    175g</td>\n",
       "      <td>3</td>\n",
       "      <td>6.3</td>\n",
       "      <td>CCs Nacho Cheese</td>\n",
       "      <td>175</td>\n",
       "    </tr>\n",
       "    <tr>\n",
       "      <th>2</th>\n",
       "      <td>43605</td>\n",
       "      <td>1</td>\n",
       "      <td>1343</td>\n",
       "      <td>383</td>\n",
       "      <td>61</td>\n",
       "      <td>Smiths Crinkle Cut  Chips Chicken 170g</td>\n",
       "      <td>2</td>\n",
       "      <td>2.9</td>\n",
       "      <td>Smiths Crinkle Cut  Chips Chicken</td>\n",
       "      <td>170</td>\n",
       "    </tr>\n",
       "    <tr>\n",
       "      <th>3</th>\n",
       "      <td>43329</td>\n",
       "      <td>2</td>\n",
       "      <td>2373</td>\n",
       "      <td>974</td>\n",
       "      <td>69</td>\n",
       "      <td>Smiths Chip Thinly  S/Cream&amp;Onion 175g</td>\n",
       "      <td>5</td>\n",
       "      <td>15.0</td>\n",
       "      <td>Smiths Chip Thinly  S/Cream&amp;Onion</td>\n",
       "      <td>175</td>\n",
       "    </tr>\n",
       "    <tr>\n",
       "      <th>4</th>\n",
       "      <td>43330</td>\n",
       "      <td>2</td>\n",
       "      <td>2426</td>\n",
       "      <td>1038</td>\n",
       "      <td>108</td>\n",
       "      <td>Kettle Tortilla ChpsHny&amp;Jlpno Chili 150g</td>\n",
       "      <td>3</td>\n",
       "      <td>13.8</td>\n",
       "      <td>Kettle Tortilla ChpsHny&amp;Jlpno Chili</td>\n",
       "      <td>150</td>\n",
       "    </tr>\n",
       "  </tbody>\n",
       "</table>\n",
       "</div>"
      ],
      "text/plain": [
       "    DATE  STORE_NBR  LYLTY_CARD_NBR  TXN_ID  PROD_NBR  \\\n",
       "0  43390          1            1000       1         5   \n",
       "1  43599          1            1307     348        66   \n",
       "2  43605          1            1343     383        61   \n",
       "3  43329          2            2373     974        69   \n",
       "4  43330          2            2426    1038       108   \n",
       "\n",
       "                                  PROD_NAME  PROD_QTY  TOT_SALES  \\\n",
       "0    Natural Chip        Compny SeaSalt175g         2        6.0   \n",
       "1                  CCs Nacho Cheese    175g         3        6.3   \n",
       "2    Smiths Crinkle Cut  Chips Chicken 170g         2        2.9   \n",
       "3    Smiths Chip Thinly  S/Cream&Onion 175g         5       15.0   \n",
       "4  Kettle Tortilla ChpsHny&Jlpno Chili 150g         3       13.8   \n",
       "\n",
       "                          PROD_COMPANY PACK_SIZE_GRAMS  \n",
       "0   Natural Chip        Compny SeaSalt             175  \n",
       "1                     CCs Nacho Cheese             175  \n",
       "2    Smiths Crinkle Cut  Chips Chicken             170  \n",
       "3    Smiths Chip Thinly  S/Cream&Onion             175  \n",
       "4  Kettle Tortilla ChpsHny&Jlpno Chili             150  "
      ]
     },
     "execution_count": 16,
     "metadata": {},
     "output_type": "execute_result"
    }
   ],
   "source": [
    "## Now Join the Separated and Transactions Tables\n",
    "df_transactions.reset_index(level=None, drop=False, inplace=False, col_level=0, col_fill='')\n",
    "df_transactions=pd.merge(df_transactions, df_separated, left_index=True, right_index=True)\n",
    "df_transactions.head()\n"
   ]
  },
  {
   "cell_type": "code",
   "execution_count": 17,
   "id": "1e8ba270",
   "metadata": {},
   "outputs": [],
   "source": [
    "#drop the PROD_NAME\n",
    "df_transactions.drop(columns='PROD_NAME', inplace=True)"
   ]
  },
  {
   "cell_type": "code",
   "execution_count": 18,
   "id": "3e5ec50d",
   "metadata": {},
   "outputs": [
    {
     "data": {
      "text/html": [
       "<div>\n",
       "<style scoped>\n",
       "    .dataframe tbody tr th:only-of-type {\n",
       "        vertical-align: middle;\n",
       "    }\n",
       "\n",
       "    .dataframe tbody tr th {\n",
       "        vertical-align: top;\n",
       "    }\n",
       "\n",
       "    .dataframe thead th {\n",
       "        text-align: right;\n",
       "    }\n",
       "</style>\n",
       "<table border=\"1\" class=\"dataframe\">\n",
       "  <thead>\n",
       "    <tr style=\"text-align: right;\">\n",
       "      <th></th>\n",
       "      <th>DATE</th>\n",
       "      <th>STORE_NBR</th>\n",
       "      <th>LYLTY_CARD_NBR</th>\n",
       "      <th>TXN_ID</th>\n",
       "      <th>PROD_NBR</th>\n",
       "      <th>PROD_QTY</th>\n",
       "      <th>TOT_SALES</th>\n",
       "      <th>PROD_COMPANY</th>\n",
       "      <th>PACK_SIZE_GRAMS</th>\n",
       "    </tr>\n",
       "  </thead>\n",
       "  <tbody>\n",
       "    <tr>\n",
       "      <th>0</th>\n",
       "      <td>43390</td>\n",
       "      <td>1</td>\n",
       "      <td>1000</td>\n",
       "      <td>1</td>\n",
       "      <td>5</td>\n",
       "      <td>2</td>\n",
       "      <td>6.0</td>\n",
       "      <td>Natural Chip        Compny SeaSalt</td>\n",
       "      <td>175</td>\n",
       "    </tr>\n",
       "    <tr>\n",
       "      <th>1</th>\n",
       "      <td>43599</td>\n",
       "      <td>1</td>\n",
       "      <td>1307</td>\n",
       "      <td>348</td>\n",
       "      <td>66</td>\n",
       "      <td>3</td>\n",
       "      <td>6.3</td>\n",
       "      <td>CCs Nacho Cheese</td>\n",
       "      <td>175</td>\n",
       "    </tr>\n",
       "    <tr>\n",
       "      <th>2</th>\n",
       "      <td>43605</td>\n",
       "      <td>1</td>\n",
       "      <td>1343</td>\n",
       "      <td>383</td>\n",
       "      <td>61</td>\n",
       "      <td>2</td>\n",
       "      <td>2.9</td>\n",
       "      <td>Smiths Crinkle Cut  Chips Chicken</td>\n",
       "      <td>170</td>\n",
       "    </tr>\n",
       "    <tr>\n",
       "      <th>3</th>\n",
       "      <td>43329</td>\n",
       "      <td>2</td>\n",
       "      <td>2373</td>\n",
       "      <td>974</td>\n",
       "      <td>69</td>\n",
       "      <td>5</td>\n",
       "      <td>15.0</td>\n",
       "      <td>Smiths Chip Thinly  S/Cream&amp;Onion</td>\n",
       "      <td>175</td>\n",
       "    </tr>\n",
       "    <tr>\n",
       "      <th>4</th>\n",
       "      <td>43330</td>\n",
       "      <td>2</td>\n",
       "      <td>2426</td>\n",
       "      <td>1038</td>\n",
       "      <td>108</td>\n",
       "      <td>3</td>\n",
       "      <td>13.8</td>\n",
       "      <td>Kettle Tortilla ChpsHny&amp;Jlpno Chili</td>\n",
       "      <td>150</td>\n",
       "    </tr>\n",
       "  </tbody>\n",
       "</table>\n",
       "</div>"
      ],
      "text/plain": [
       "    DATE  STORE_NBR  LYLTY_CARD_NBR  TXN_ID  PROD_NBR  PROD_QTY  TOT_SALES  \\\n",
       "0  43390          1            1000       1         5         2        6.0   \n",
       "1  43599          1            1307     348        66         3        6.3   \n",
       "2  43605          1            1343     383        61         2        2.9   \n",
       "3  43329          2            2373     974        69         5       15.0   \n",
       "4  43330          2            2426    1038       108         3       13.8   \n",
       "\n",
       "                          PROD_COMPANY PACK_SIZE_GRAMS  \n",
       "0   Natural Chip        Compny SeaSalt             175  \n",
       "1                     CCs Nacho Cheese             175  \n",
       "2    Smiths Crinkle Cut  Chips Chicken             170  \n",
       "3    Smiths Chip Thinly  S/Cream&Onion             175  \n",
       "4  Kettle Tortilla ChpsHny&Jlpno Chili             150  "
      ]
     },
     "execution_count": 18,
     "metadata": {},
     "output_type": "execute_result"
    }
   ],
   "source": [
    "df_transactions.head()"
   ]
  },
  {
   "cell_type": "code",
   "execution_count": 19,
   "id": "6f67d08e",
   "metadata": {},
   "outputs": [],
   "source": [
    "## Rearrange The columns\n",
    "new_order =[0,1,2,3,4,-2,-1,5,6]\n",
    "df_transactions = df_transactions[df_transactions.columns[new_order]]"
   ]
  },
  {
   "cell_type": "code",
   "execution_count": 20,
   "id": "065e2ab9",
   "metadata": {},
   "outputs": [
    {
     "data": {
      "text/html": [
       "<div>\n",
       "<style scoped>\n",
       "    .dataframe tbody tr th:only-of-type {\n",
       "        vertical-align: middle;\n",
       "    }\n",
       "\n",
       "    .dataframe tbody tr th {\n",
       "        vertical-align: top;\n",
       "    }\n",
       "\n",
       "    .dataframe thead th {\n",
       "        text-align: right;\n",
       "    }\n",
       "</style>\n",
       "<table border=\"1\" class=\"dataframe\">\n",
       "  <thead>\n",
       "    <tr style=\"text-align: right;\">\n",
       "      <th></th>\n",
       "      <th>DATE</th>\n",
       "      <th>STORE_NBR</th>\n",
       "      <th>LYLTY_CARD_NBR</th>\n",
       "      <th>TXN_ID</th>\n",
       "      <th>PROD_NBR</th>\n",
       "      <th>PROD_COMPANY</th>\n",
       "      <th>PACK_SIZE_GRAMS</th>\n",
       "      <th>PROD_QTY</th>\n",
       "      <th>TOT_SALES</th>\n",
       "    </tr>\n",
       "  </thead>\n",
       "  <tbody>\n",
       "    <tr>\n",
       "      <th>0</th>\n",
       "      <td>43390</td>\n",
       "      <td>1</td>\n",
       "      <td>1000</td>\n",
       "      <td>1</td>\n",
       "      <td>5</td>\n",
       "      <td>Natural Chip        Compny SeaSalt</td>\n",
       "      <td>175</td>\n",
       "      <td>2</td>\n",
       "      <td>6.0</td>\n",
       "    </tr>\n",
       "    <tr>\n",
       "      <th>1</th>\n",
       "      <td>43599</td>\n",
       "      <td>1</td>\n",
       "      <td>1307</td>\n",
       "      <td>348</td>\n",
       "      <td>66</td>\n",
       "      <td>CCs Nacho Cheese</td>\n",
       "      <td>175</td>\n",
       "      <td>3</td>\n",
       "      <td>6.3</td>\n",
       "    </tr>\n",
       "    <tr>\n",
       "      <th>2</th>\n",
       "      <td>43605</td>\n",
       "      <td>1</td>\n",
       "      <td>1343</td>\n",
       "      <td>383</td>\n",
       "      <td>61</td>\n",
       "      <td>Smiths Crinkle Cut  Chips Chicken</td>\n",
       "      <td>170</td>\n",
       "      <td>2</td>\n",
       "      <td>2.9</td>\n",
       "    </tr>\n",
       "    <tr>\n",
       "      <th>3</th>\n",
       "      <td>43329</td>\n",
       "      <td>2</td>\n",
       "      <td>2373</td>\n",
       "      <td>974</td>\n",
       "      <td>69</td>\n",
       "      <td>Smiths Chip Thinly  S/Cream&amp;Onion</td>\n",
       "      <td>175</td>\n",
       "      <td>5</td>\n",
       "      <td>15.0</td>\n",
       "    </tr>\n",
       "    <tr>\n",
       "      <th>4</th>\n",
       "      <td>43330</td>\n",
       "      <td>2</td>\n",
       "      <td>2426</td>\n",
       "      <td>1038</td>\n",
       "      <td>108</td>\n",
       "      <td>Kettle Tortilla ChpsHny&amp;Jlpno Chili</td>\n",
       "      <td>150</td>\n",
       "      <td>3</td>\n",
       "      <td>13.8</td>\n",
       "    </tr>\n",
       "  </tbody>\n",
       "</table>\n",
       "</div>"
      ],
      "text/plain": [
       "    DATE  STORE_NBR  LYLTY_CARD_NBR  TXN_ID  PROD_NBR  \\\n",
       "0  43390          1            1000       1         5   \n",
       "1  43599          1            1307     348        66   \n",
       "2  43605          1            1343     383        61   \n",
       "3  43329          2            2373     974        69   \n",
       "4  43330          2            2426    1038       108   \n",
       "\n",
       "                          PROD_COMPANY PACK_SIZE_GRAMS  PROD_QTY  TOT_SALES  \n",
       "0   Natural Chip        Compny SeaSalt             175         2        6.0  \n",
       "1                     CCs Nacho Cheese             175         3        6.3  \n",
       "2    Smiths Crinkle Cut  Chips Chicken             170         2        2.9  \n",
       "3    Smiths Chip Thinly  S/Cream&Onion             175         5       15.0  \n",
       "4  Kettle Tortilla ChpsHny&Jlpno Chili             150         3       13.8  "
      ]
     },
     "execution_count": 20,
     "metadata": {},
     "output_type": "execute_result"
    }
   ],
   "source": [
    "df_transactions.head()"
   ]
  },
  {
   "cell_type": "markdown",
   "id": "5570d17a",
   "metadata": {},
   "source": [
    "## Get the company name and Brand Name"
   ]
  },
  {
   "cell_type": "code",
   "execution_count": 21,
   "id": "e8f66a44",
   "metadata": {},
   "outputs": [
    {
     "data": {
      "text/html": [
       "<div>\n",
       "<style scoped>\n",
       "    .dataframe tbody tr th:only-of-type {\n",
       "        vertical-align: middle;\n",
       "    }\n",
       "\n",
       "    .dataframe tbody tr th {\n",
       "        vertical-align: top;\n",
       "    }\n",
       "\n",
       "    .dataframe thead th {\n",
       "        text-align: right;\n",
       "    }\n",
       "</style>\n",
       "<table border=\"1\" class=\"dataframe\">\n",
       "  <thead>\n",
       "    <tr style=\"text-align: right;\">\n",
       "      <th></th>\n",
       "      <th>DATE</th>\n",
       "      <th>STORE_NBR</th>\n",
       "      <th>LYLTY_CARD_NBR</th>\n",
       "      <th>TXN_ID</th>\n",
       "      <th>PROD_NBR</th>\n",
       "      <th>PROD_COMPANY</th>\n",
       "      <th>PACK_SIZE_GRAMS</th>\n",
       "      <th>PROD_QTY</th>\n",
       "      <th>TOT_SALES</th>\n",
       "      <th>BRAND</th>\n",
       "      <th>COMPANY_NAME</th>\n",
       "    </tr>\n",
       "  </thead>\n",
       "  <tbody>\n",
       "    <tr>\n",
       "      <th>0</th>\n",
       "      <td>43390</td>\n",
       "      <td>1</td>\n",
       "      <td>1000</td>\n",
       "      <td>1</td>\n",
       "      <td>5</td>\n",
       "      <td>Natural Chip        Compny SeaSalt</td>\n",
       "      <td>175</td>\n",
       "      <td>2</td>\n",
       "      <td>6.0</td>\n",
       "      <td>Natural</td>\n",
       "      <td>Chip        Compny SeaSalt</td>\n",
       "    </tr>\n",
       "    <tr>\n",
       "      <th>1</th>\n",
       "      <td>43599</td>\n",
       "      <td>1</td>\n",
       "      <td>1307</td>\n",
       "      <td>348</td>\n",
       "      <td>66</td>\n",
       "      <td>CCs Nacho Cheese</td>\n",
       "      <td>175</td>\n",
       "      <td>3</td>\n",
       "      <td>6.3</td>\n",
       "      <td>CCs</td>\n",
       "      <td>Nacho Cheese</td>\n",
       "    </tr>\n",
       "    <tr>\n",
       "      <th>2</th>\n",
       "      <td>43605</td>\n",
       "      <td>1</td>\n",
       "      <td>1343</td>\n",
       "      <td>383</td>\n",
       "      <td>61</td>\n",
       "      <td>Smiths Crinkle Cut  Chips Chicken</td>\n",
       "      <td>170</td>\n",
       "      <td>2</td>\n",
       "      <td>2.9</td>\n",
       "      <td>Smiths</td>\n",
       "      <td>Crinkle Cut  Chips Chicken</td>\n",
       "    </tr>\n",
       "    <tr>\n",
       "      <th>3</th>\n",
       "      <td>43329</td>\n",
       "      <td>2</td>\n",
       "      <td>2373</td>\n",
       "      <td>974</td>\n",
       "      <td>69</td>\n",
       "      <td>Smiths Chip Thinly  S/Cream&amp;Onion</td>\n",
       "      <td>175</td>\n",
       "      <td>5</td>\n",
       "      <td>15.0</td>\n",
       "      <td>Smiths</td>\n",
       "      <td>Chip Thinly  S/Cream&amp;Onion</td>\n",
       "    </tr>\n",
       "    <tr>\n",
       "      <th>4</th>\n",
       "      <td>43330</td>\n",
       "      <td>2</td>\n",
       "      <td>2426</td>\n",
       "      <td>1038</td>\n",
       "      <td>108</td>\n",
       "      <td>Kettle Tortilla ChpsHny&amp;Jlpno Chili</td>\n",
       "      <td>150</td>\n",
       "      <td>3</td>\n",
       "      <td>13.8</td>\n",
       "      <td>Kettle</td>\n",
       "      <td>Tortilla ChpsHny&amp;Jlpno Chili</td>\n",
       "    </tr>\n",
       "  </tbody>\n",
       "</table>\n",
       "</div>"
      ],
      "text/plain": [
       "    DATE  STORE_NBR  LYLTY_CARD_NBR  TXN_ID  PROD_NBR  \\\n",
       "0  43390          1            1000       1         5   \n",
       "1  43599          1            1307     348        66   \n",
       "2  43605          1            1343     383        61   \n",
       "3  43329          2            2373     974        69   \n",
       "4  43330          2            2426    1038       108   \n",
       "\n",
       "                          PROD_COMPANY PACK_SIZE_GRAMS  PROD_QTY  TOT_SALES  \\\n",
       "0   Natural Chip        Compny SeaSalt             175         2        6.0   \n",
       "1                     CCs Nacho Cheese             175         3        6.3   \n",
       "2    Smiths Crinkle Cut  Chips Chicken             170         2        2.9   \n",
       "3    Smiths Chip Thinly  S/Cream&Onion             175         5       15.0   \n",
       "4  Kettle Tortilla ChpsHny&Jlpno Chili             150         3       13.8   \n",
       "\n",
       "     BRAND                  COMPANY_NAME  \n",
       "0  Natural    Chip        Compny SeaSalt  \n",
       "1      CCs                  Nacho Cheese  \n",
       "2   Smiths    Crinkle Cut  Chips Chicken  \n",
       "3   Smiths    Chip Thinly  S/Cream&Onion  \n",
       "4   Kettle  Tortilla ChpsHny&Jlpno Chili  "
      ]
     },
     "execution_count": 21,
     "metadata": {},
     "output_type": "execute_result"
    }
   ],
   "source": [
    "#split on the first spacing\n",
    "df_transactions[['BRAND', 'COMPANY_NAME']] = df_transactions['PROD_COMPANY'].str.split(' ', 1, expand=True)\n",
    "\n",
    "df_transactions.head()\n",
    "\n"
   ]
  },
  {
   "cell_type": "code",
   "execution_count": 22,
   "id": "c06e7c0b",
   "metadata": {},
   "outputs": [
    {
     "data": {
      "text/plain": [
       "0"
      ]
     },
     "execution_count": 22,
     "metadata": {},
     "output_type": "execute_result"
    }
   ],
   "source": [
    "df_transactions.BRAND.isnull().sum()"
   ]
  },
  {
   "cell_type": "code",
   "execution_count": 23,
   "id": "8daad989",
   "metadata": {},
   "outputs": [
    {
     "data": {
      "text/html": [
       "<div>\n",
       "<style scoped>\n",
       "    .dataframe tbody tr th:only-of-type {\n",
       "        vertical-align: middle;\n",
       "    }\n",
       "\n",
       "    .dataframe tbody tr th {\n",
       "        vertical-align: top;\n",
       "    }\n",
       "\n",
       "    .dataframe thead th {\n",
       "        text-align: right;\n",
       "    }\n",
       "</style>\n",
       "<table border=\"1\" class=\"dataframe\">\n",
       "  <thead>\n",
       "    <tr style=\"text-align: right;\">\n",
       "      <th></th>\n",
       "      <th>DATE</th>\n",
       "      <th>STORE_NBR</th>\n",
       "      <th>LYLTY_CARD_NBR</th>\n",
       "      <th>TXN_ID</th>\n",
       "      <th>PROD_NBR</th>\n",
       "      <th>BRAND</th>\n",
       "      <th>COMPANY_NAME</th>\n",
       "      <th>PROD_COMPANY</th>\n",
       "      <th>PACK_SIZE_GRAMS</th>\n",
       "      <th>PROD_QTY</th>\n",
       "      <th>TOT_SALES</th>\n",
       "    </tr>\n",
       "  </thead>\n",
       "  <tbody>\n",
       "    <tr>\n",
       "      <th>0</th>\n",
       "      <td>43390</td>\n",
       "      <td>1</td>\n",
       "      <td>1000</td>\n",
       "      <td>1</td>\n",
       "      <td>5</td>\n",
       "      <td>Natural</td>\n",
       "      <td>Chip        Compny SeaSalt</td>\n",
       "      <td>Natural Chip        Compny SeaSalt</td>\n",
       "      <td>175</td>\n",
       "      <td>2</td>\n",
       "      <td>6.0</td>\n",
       "    </tr>\n",
       "    <tr>\n",
       "      <th>1</th>\n",
       "      <td>43599</td>\n",
       "      <td>1</td>\n",
       "      <td>1307</td>\n",
       "      <td>348</td>\n",
       "      <td>66</td>\n",
       "      <td>CCs</td>\n",
       "      <td>Nacho Cheese</td>\n",
       "      <td>CCs Nacho Cheese</td>\n",
       "      <td>175</td>\n",
       "      <td>3</td>\n",
       "      <td>6.3</td>\n",
       "    </tr>\n",
       "    <tr>\n",
       "      <th>2</th>\n",
       "      <td>43605</td>\n",
       "      <td>1</td>\n",
       "      <td>1343</td>\n",
       "      <td>383</td>\n",
       "      <td>61</td>\n",
       "      <td>Smiths</td>\n",
       "      <td>Crinkle Cut  Chips Chicken</td>\n",
       "      <td>Smiths Crinkle Cut  Chips Chicken</td>\n",
       "      <td>170</td>\n",
       "      <td>2</td>\n",
       "      <td>2.9</td>\n",
       "    </tr>\n",
       "    <tr>\n",
       "      <th>3</th>\n",
       "      <td>43329</td>\n",
       "      <td>2</td>\n",
       "      <td>2373</td>\n",
       "      <td>974</td>\n",
       "      <td>69</td>\n",
       "      <td>Smiths</td>\n",
       "      <td>Chip Thinly  S/Cream&amp;Onion</td>\n",
       "      <td>Smiths Chip Thinly  S/Cream&amp;Onion</td>\n",
       "      <td>175</td>\n",
       "      <td>5</td>\n",
       "      <td>15.0</td>\n",
       "    </tr>\n",
       "    <tr>\n",
       "      <th>4</th>\n",
       "      <td>43330</td>\n",
       "      <td>2</td>\n",
       "      <td>2426</td>\n",
       "      <td>1038</td>\n",
       "      <td>108</td>\n",
       "      <td>Kettle</td>\n",
       "      <td>Tortilla ChpsHny&amp;Jlpno Chili</td>\n",
       "      <td>Kettle Tortilla ChpsHny&amp;Jlpno Chili</td>\n",
       "      <td>150</td>\n",
       "      <td>3</td>\n",
       "      <td>13.8</td>\n",
       "    </tr>\n",
       "  </tbody>\n",
       "</table>\n",
       "</div>"
      ],
      "text/plain": [
       "    DATE  STORE_NBR  LYLTY_CARD_NBR  TXN_ID  PROD_NBR    BRAND  \\\n",
       "0  43390          1            1000       1         5  Natural   \n",
       "1  43599          1            1307     348        66      CCs   \n",
       "2  43605          1            1343     383        61   Smiths   \n",
       "3  43329          2            2373     974        69   Smiths   \n",
       "4  43330          2            2426    1038       108   Kettle   \n",
       "\n",
       "                   COMPANY_NAME                         PROD_COMPANY  \\\n",
       "0    Chip        Compny SeaSalt   Natural Chip        Compny SeaSalt   \n",
       "1                  Nacho Cheese                     CCs Nacho Cheese   \n",
       "2    Crinkle Cut  Chips Chicken    Smiths Crinkle Cut  Chips Chicken   \n",
       "3    Chip Thinly  S/Cream&Onion    Smiths Chip Thinly  S/Cream&Onion   \n",
       "4  Tortilla ChpsHny&Jlpno Chili  Kettle Tortilla ChpsHny&Jlpno Chili   \n",
       "\n",
       "  PACK_SIZE_GRAMS  PROD_QTY  TOT_SALES  \n",
       "0             175         2        6.0  \n",
       "1             175         3        6.3  \n",
       "2             170         2        2.9  \n",
       "3             175         5       15.0  \n",
       "4             150         3       13.8  "
      ]
     },
     "execution_count": 23,
     "metadata": {},
     "output_type": "execute_result"
    }
   ],
   "source": [
    "## Rearrange the columns\n",
    "new_order =[0,1,2,3,4,-2,-1,5,6,7,8]\n",
    "df_transactions = df_transactions[df_transactions.columns[new_order]]\n",
    "df_transactions.head()"
   ]
  },
  {
   "cell_type": "code",
   "execution_count": 24,
   "id": "593a9b95",
   "metadata": {},
   "outputs": [
    {
     "data": {
      "text/html": [
       "<div>\n",
       "<style scoped>\n",
       "    .dataframe tbody tr th:only-of-type {\n",
       "        vertical-align: middle;\n",
       "    }\n",
       "\n",
       "    .dataframe tbody tr th {\n",
       "        vertical-align: top;\n",
       "    }\n",
       "\n",
       "    .dataframe thead th {\n",
       "        text-align: right;\n",
       "    }\n",
       "</style>\n",
       "<table border=\"1\" class=\"dataframe\">\n",
       "  <thead>\n",
       "    <tr style=\"text-align: right;\">\n",
       "      <th></th>\n",
       "      <th>DATE</th>\n",
       "      <th>STORE_NBR</th>\n",
       "      <th>LYLTY_CARD_NBR</th>\n",
       "      <th>TXN_ID</th>\n",
       "      <th>PROD_NBR</th>\n",
       "      <th>BRAND</th>\n",
       "      <th>COMPANY_NAME</th>\n",
       "      <th>PACK_SIZE_GRAMS</th>\n",
       "      <th>PROD_QTY</th>\n",
       "      <th>TOT_SALES</th>\n",
       "    </tr>\n",
       "  </thead>\n",
       "  <tbody>\n",
       "    <tr>\n",
       "      <th>0</th>\n",
       "      <td>43390</td>\n",
       "      <td>1</td>\n",
       "      <td>1000</td>\n",
       "      <td>1</td>\n",
       "      <td>5</td>\n",
       "      <td>Natural</td>\n",
       "      <td>Chip        Compny SeaSalt</td>\n",
       "      <td>175</td>\n",
       "      <td>2</td>\n",
       "      <td>6.0</td>\n",
       "    </tr>\n",
       "    <tr>\n",
       "      <th>1</th>\n",
       "      <td>43599</td>\n",
       "      <td>1</td>\n",
       "      <td>1307</td>\n",
       "      <td>348</td>\n",
       "      <td>66</td>\n",
       "      <td>CCs</td>\n",
       "      <td>Nacho Cheese</td>\n",
       "      <td>175</td>\n",
       "      <td>3</td>\n",
       "      <td>6.3</td>\n",
       "    </tr>\n",
       "    <tr>\n",
       "      <th>2</th>\n",
       "      <td>43605</td>\n",
       "      <td>1</td>\n",
       "      <td>1343</td>\n",
       "      <td>383</td>\n",
       "      <td>61</td>\n",
       "      <td>Smiths</td>\n",
       "      <td>Crinkle Cut  Chips Chicken</td>\n",
       "      <td>170</td>\n",
       "      <td>2</td>\n",
       "      <td>2.9</td>\n",
       "    </tr>\n",
       "    <tr>\n",
       "      <th>3</th>\n",
       "      <td>43329</td>\n",
       "      <td>2</td>\n",
       "      <td>2373</td>\n",
       "      <td>974</td>\n",
       "      <td>69</td>\n",
       "      <td>Smiths</td>\n",
       "      <td>Chip Thinly  S/Cream&amp;Onion</td>\n",
       "      <td>175</td>\n",
       "      <td>5</td>\n",
       "      <td>15.0</td>\n",
       "    </tr>\n",
       "    <tr>\n",
       "      <th>4</th>\n",
       "      <td>43330</td>\n",
       "      <td>2</td>\n",
       "      <td>2426</td>\n",
       "      <td>1038</td>\n",
       "      <td>108</td>\n",
       "      <td>Kettle</td>\n",
       "      <td>Tortilla ChpsHny&amp;Jlpno Chili</td>\n",
       "      <td>150</td>\n",
       "      <td>3</td>\n",
       "      <td>13.8</td>\n",
       "    </tr>\n",
       "  </tbody>\n",
       "</table>\n",
       "</div>"
      ],
      "text/plain": [
       "    DATE  STORE_NBR  LYLTY_CARD_NBR  TXN_ID  PROD_NBR    BRAND  \\\n",
       "0  43390          1            1000       1         5  Natural   \n",
       "1  43599          1            1307     348        66      CCs   \n",
       "2  43605          1            1343     383        61   Smiths   \n",
       "3  43329          2            2373     974        69   Smiths   \n",
       "4  43330          2            2426    1038       108   Kettle   \n",
       "\n",
       "                   COMPANY_NAME PACK_SIZE_GRAMS  PROD_QTY  TOT_SALES  \n",
       "0    Chip        Compny SeaSalt             175         2        6.0  \n",
       "1                  Nacho Cheese             175         3        6.3  \n",
       "2    Crinkle Cut  Chips Chicken             170         2        2.9  \n",
       "3    Chip Thinly  S/Cream&Onion             175         5       15.0  \n",
       "4  Tortilla ChpsHny&Jlpno Chili             150         3       13.8  "
      ]
     },
     "execution_count": 24,
     "metadata": {},
     "output_type": "execute_result"
    }
   ],
   "source": [
    "## Drop the PROD COMPANY\n",
    "df_transactions.drop(columns='PROD_COMPANY', inplace=True)\n",
    "df_transactions.head()"
   ]
  },
  {
   "cell_type": "code",
   "execution_count": 25,
   "id": "5fde4a7b",
   "metadata": {},
   "outputs": [],
   "source": [
    "#saving the new transactions\n",
    "df_transactions.to_csv('New_transaction.csv',index=False)"
   ]
  },
  {
   "cell_type": "code",
   "execution_count": null,
   "id": "406fe352",
   "metadata": {},
   "outputs": [],
   "source": []
  },
  {
   "cell_type": "code",
   "execution_count": 26,
   "id": "af1ee772",
   "metadata": {
    "scrolled": true
   },
   "outputs": [
    {
     "data": {
      "text/html": [
       "<div>\n",
       "<style scoped>\n",
       "    .dataframe tbody tr th:only-of-type {\n",
       "        vertical-align: middle;\n",
       "    }\n",
       "\n",
       "    .dataframe tbody tr th {\n",
       "        vertical-align: top;\n",
       "    }\n",
       "\n",
       "    .dataframe thead th {\n",
       "        text-align: right;\n",
       "    }\n",
       "</style>\n",
       "<table border=\"1\" class=\"dataframe\">\n",
       "  <thead>\n",
       "    <tr style=\"text-align: right;\">\n",
       "      <th></th>\n",
       "      <th>Data type</th>\n",
       "    </tr>\n",
       "  </thead>\n",
       "  <tbody>\n",
       "    <tr>\n",
       "      <th>DATE</th>\n",
       "      <td>int64</td>\n",
       "    </tr>\n",
       "    <tr>\n",
       "      <th>STORE_NBR</th>\n",
       "      <td>int64</td>\n",
       "    </tr>\n",
       "    <tr>\n",
       "      <th>LYLTY_CARD_NBR</th>\n",
       "      <td>int64</td>\n",
       "    </tr>\n",
       "    <tr>\n",
       "      <th>TXN_ID</th>\n",
       "      <td>int64</td>\n",
       "    </tr>\n",
       "    <tr>\n",
       "      <th>PROD_NBR</th>\n",
       "      <td>int64</td>\n",
       "    </tr>\n",
       "    <tr>\n",
       "      <th>BRAND</th>\n",
       "      <td>object</td>\n",
       "    </tr>\n",
       "    <tr>\n",
       "      <th>COMPANY_NAME</th>\n",
       "      <td>object</td>\n",
       "    </tr>\n",
       "    <tr>\n",
       "      <th>PACK_SIZE_GRAMS</th>\n",
       "      <td>object</td>\n",
       "    </tr>\n",
       "    <tr>\n",
       "      <th>PROD_QTY</th>\n",
       "      <td>int64</td>\n",
       "    </tr>\n",
       "    <tr>\n",
       "      <th>TOT_SALES</th>\n",
       "      <td>float64</td>\n",
       "    </tr>\n",
       "  </tbody>\n",
       "</table>\n",
       "</div>"
      ],
      "text/plain": [
       "                Data type\n",
       "DATE                int64\n",
       "STORE_NBR           int64\n",
       "LYLTY_CARD_NBR      int64\n",
       "TXN_ID              int64\n",
       "PROD_NBR            int64\n",
       "BRAND              object\n",
       "COMPANY_NAME       object\n",
       "PACK_SIZE_GRAMS    object\n",
       "PROD_QTY            int64\n",
       "TOT_SALES         float64"
      ]
     },
     "execution_count": 26,
     "metadata": {},
     "output_type": "execute_result"
    }
   ],
   "source": [
    "pd.DataFrame({\"Data type\":df_transactions.dtypes})"
   ]
  },
  {
   "cell_type": "code",
   "execution_count": 27,
   "id": "28d728ac",
   "metadata": {},
   "outputs": [
    {
     "data": {
      "text/html": [
       "<div>\n",
       "<style scoped>\n",
       "    .dataframe tbody tr th:only-of-type {\n",
       "        vertical-align: middle;\n",
       "    }\n",
       "\n",
       "    .dataframe tbody tr th {\n",
       "        vertical-align: top;\n",
       "    }\n",
       "\n",
       "    .dataframe thead th {\n",
       "        text-align: right;\n",
       "    }\n",
       "</style>\n",
       "<table border=\"1\" class=\"dataframe\">\n",
       "  <thead>\n",
       "    <tr style=\"text-align: right;\">\n",
       "      <th></th>\n",
       "      <th>DATE</th>\n",
       "      <th>STORE_NBR</th>\n",
       "      <th>LYLTY_CARD_NBR</th>\n",
       "      <th>TXN_ID</th>\n",
       "      <th>PROD_NBR</th>\n",
       "      <th>BRAND</th>\n",
       "      <th>COMPANY_NAME</th>\n",
       "      <th>PACK_SIZE_GRAMS</th>\n",
       "      <th>PROD_QTY</th>\n",
       "      <th>TOT_SALES</th>\n",
       "    </tr>\n",
       "  </thead>\n",
       "  <tbody>\n",
       "    <tr>\n",
       "      <th>264831</th>\n",
       "      <td>1970-01-01 00:00:00.000043533</td>\n",
       "      <td>272</td>\n",
       "      <td>272319</td>\n",
       "      <td>270088</td>\n",
       "      <td>89</td>\n",
       "      <td>Kettle</td>\n",
       "      <td>Sweet Chilli And Sour Cream</td>\n",
       "      <td>175</td>\n",
       "      <td>2</td>\n",
       "      <td>10.8</td>\n",
       "    </tr>\n",
       "    <tr>\n",
       "      <th>264832</th>\n",
       "      <td>1970-01-01 00:00:00.000043325</td>\n",
       "      <td>272</td>\n",
       "      <td>272358</td>\n",
       "      <td>270154</td>\n",
       "      <td>74</td>\n",
       "      <td>Tostitos</td>\n",
       "      <td>Splash Of  Lime</td>\n",
       "      <td>175</td>\n",
       "      <td>1</td>\n",
       "      <td>4.4</td>\n",
       "    </tr>\n",
       "    <tr>\n",
       "      <th>264833</th>\n",
       "      <td>1970-01-01 00:00:00.000043410</td>\n",
       "      <td>272</td>\n",
       "      <td>272379</td>\n",
       "      <td>270187</td>\n",
       "      <td>51</td>\n",
       "      <td>Doritos</td>\n",
       "      <td>Mexicana</td>\n",
       "      <td>170</td>\n",
       "      <td>2</td>\n",
       "      <td>8.8</td>\n",
       "    </tr>\n",
       "    <tr>\n",
       "      <th>264834</th>\n",
       "      <td>1970-01-01 00:00:00.000043461</td>\n",
       "      <td>272</td>\n",
       "      <td>272379</td>\n",
       "      <td>270188</td>\n",
       "      <td>42</td>\n",
       "      <td>Doritos</td>\n",
       "      <td>Corn Chip Mexican Jalapeno</td>\n",
       "      <td>150</td>\n",
       "      <td>2</td>\n",
       "      <td>7.8</td>\n",
       "    </tr>\n",
       "    <tr>\n",
       "      <th>264835</th>\n",
       "      <td>1970-01-01 00:00:00.000043365</td>\n",
       "      <td>272</td>\n",
       "      <td>272380</td>\n",
       "      <td>270189</td>\n",
       "      <td>74</td>\n",
       "      <td>Tostitos</td>\n",
       "      <td>Splash Of  Lime</td>\n",
       "      <td>175</td>\n",
       "      <td>2</td>\n",
       "      <td>8.8</td>\n",
       "    </tr>\n",
       "  </tbody>\n",
       "</table>\n",
       "</div>"
      ],
      "text/plain": [
       "                                DATE  STORE_NBR  LYLTY_CARD_NBR  TXN_ID  \\\n",
       "264831 1970-01-01 00:00:00.000043533        272          272319  270088   \n",
       "264832 1970-01-01 00:00:00.000043325        272          272358  270154   \n",
       "264833 1970-01-01 00:00:00.000043410        272          272379  270187   \n",
       "264834 1970-01-01 00:00:00.000043461        272          272379  270188   \n",
       "264835 1970-01-01 00:00:00.000043365        272          272380  270189   \n",
       "\n",
       "        PROD_NBR     BRAND                 COMPANY_NAME PACK_SIZE_GRAMS  \\\n",
       "264831        89    Kettle  Sweet Chilli And Sour Cream             175   \n",
       "264832        74  Tostitos              Splash Of  Lime             175   \n",
       "264833        51   Doritos                     Mexicana             170   \n",
       "264834        42   Doritos   Corn Chip Mexican Jalapeno             150   \n",
       "264835        74  Tostitos              Splash Of  Lime             175   \n",
       "\n",
       "        PROD_QTY  TOT_SALES  \n",
       "264831         2       10.8  \n",
       "264832         1        4.4  \n",
       "264833         2        8.8  \n",
       "264834         2        7.8  \n",
       "264835         2        8.8  "
      ]
     },
     "execution_count": 27,
     "metadata": {},
     "output_type": "execute_result"
    }
   ],
   "source": [
    "from datetime import datetime\n",
    "df_transactions[\"DATE\"]=pd.to_datetime(df_transactions[\"DATE\"]) #convert to datetume\n",
    "\n",
    "#df_transactions['DATE'] = df_transactions['DATE'].dt.strftime('%d%m%Y')\n",
    "df_transactions.tail()\n",
    "\n",
    "#Would love to see how you guys went about the Date Column\n"
   ]
  },
  {
   "cell_type": "code",
   "execution_count": 28,
   "id": "c2514b1f",
   "metadata": {},
   "outputs": [],
   "source": [
    "#Connvert to numeric data type\n",
    "df_transactions[\"PACK_SIZE_GRAMS\"]=pd.to_numeric(df_transactions[\"PACK_SIZE_GRAMS\"]) #convert to numeric\n"
   ]
  },
  {
   "cell_type": "code",
   "execution_count": 29,
   "id": "22a63f01",
   "metadata": {},
   "outputs": [
    {
     "data": {
      "text/plain": [
       "DATE                  0\n",
       "STORE_NBR             0\n",
       "LYLTY_CARD_NBR        0\n",
       "TXN_ID                0\n",
       "PROD_NBR              0\n",
       "BRAND                 0\n",
       "COMPANY_NAME       3257\n",
       "PACK_SIZE_GRAMS       0\n",
       "PROD_QTY              0\n",
       "TOT_SALES             0\n",
       "dtype: int64"
      ]
     },
     "execution_count": 29,
     "metadata": {},
     "output_type": "execute_result"
    }
   ],
   "source": [
    "df_transactions.isnull().sum()"
   ]
  },
  {
   "cell_type": "code",
   "execution_count": 30,
   "id": "2fed914e",
   "metadata": {
    "scrolled": true
   },
   "outputs": [
    {
     "data": {
      "text/plain": [
       "102    3304\n",
       "108    3296\n",
       "33     3269\n",
       "112    3268\n",
       "75     3265\n",
       "       ... \n",
       "11     1431\n",
       "76     1430\n",
       "98     1419\n",
       "29     1418\n",
       "72     1410\n",
       "Name: PROD_NBR, Length: 114, dtype: int64"
      ]
     },
     "execution_count": 30,
     "metadata": {},
     "output_type": "execute_result"
    }
   ],
   "source": [
    "df_transactions.PROD_NBR.value_counts()"
   ]
  },
  {
   "cell_type": "markdown",
   "id": "2e8a54fc",
   "metadata": {},
   "source": [
    "# MERGE PURCHASE AND TRANSACTIONS"
   ]
  },
  {
   "cell_type": "code",
   "execution_count": 31,
   "id": "7cef9488",
   "metadata": {
    "scrolled": false
   },
   "outputs": [
    {
     "data": {
      "text/html": [
       "<div>\n",
       "<style scoped>\n",
       "    .dataframe tbody tr th:only-of-type {\n",
       "        vertical-align: middle;\n",
       "    }\n",
       "\n",
       "    .dataframe tbody tr th {\n",
       "        vertical-align: top;\n",
       "    }\n",
       "\n",
       "    .dataframe thead th {\n",
       "        text-align: right;\n",
       "    }\n",
       "</style>\n",
       "<table border=\"1\" class=\"dataframe\">\n",
       "  <thead>\n",
       "    <tr style=\"text-align: right;\">\n",
       "      <th></th>\n",
       "      <th>LYLTY_CARD_NBR</th>\n",
       "      <th>LIFESTAGE</th>\n",
       "      <th>PREMIUM_CUSTOMER</th>\n",
       "      <th>DATE</th>\n",
       "      <th>STORE_NBR</th>\n",
       "      <th>TXN_ID</th>\n",
       "      <th>PROD_NBR</th>\n",
       "      <th>BRAND</th>\n",
       "      <th>COMPANY_NAME</th>\n",
       "      <th>PACK_SIZE_GRAMS</th>\n",
       "      <th>PROD_QTY</th>\n",
       "      <th>TOT_SALES</th>\n",
       "    </tr>\n",
       "  </thead>\n",
       "  <tbody>\n",
       "    <tr>\n",
       "      <th>0</th>\n",
       "      <td>1000</td>\n",
       "      <td>YOUNG SINGLES/COUPLES</td>\n",
       "      <td>Premium</td>\n",
       "      <td>1970-01-01 00:00:00.000043390</td>\n",
       "      <td>1</td>\n",
       "      <td>1</td>\n",
       "      <td>5</td>\n",
       "      <td>Natural</td>\n",
       "      <td>Chip        Compny SeaSalt</td>\n",
       "      <td>175</td>\n",
       "      <td>2</td>\n",
       "      <td>6.0</td>\n",
       "    </tr>\n",
       "    <tr>\n",
       "      <th>1</th>\n",
       "      <td>1002</td>\n",
       "      <td>YOUNG SINGLES/COUPLES</td>\n",
       "      <td>Mainstream</td>\n",
       "      <td>1970-01-01 00:00:00.000043359</td>\n",
       "      <td>1</td>\n",
       "      <td>2</td>\n",
       "      <td>58</td>\n",
       "      <td>Red</td>\n",
       "      <td>Rock Deli Chikn&amp;Garlic Aioli</td>\n",
       "      <td>150</td>\n",
       "      <td>1</td>\n",
       "      <td>2.7</td>\n",
       "    </tr>\n",
       "    <tr>\n",
       "      <th>2</th>\n",
       "      <td>1003</td>\n",
       "      <td>YOUNG FAMILIES</td>\n",
       "      <td>Budget</td>\n",
       "      <td>1970-01-01 00:00:00.000043531</td>\n",
       "      <td>1</td>\n",
       "      <td>3</td>\n",
       "      <td>52</td>\n",
       "      <td>Grain</td>\n",
       "      <td>Waves Sour    Cream&amp;Chives</td>\n",
       "      <td>210</td>\n",
       "      <td>1</td>\n",
       "      <td>3.6</td>\n",
       "    </tr>\n",
       "    <tr>\n",
       "      <th>3</th>\n",
       "      <td>1003</td>\n",
       "      <td>YOUNG FAMILIES</td>\n",
       "      <td>Budget</td>\n",
       "      <td>1970-01-01 00:00:00.000043532</td>\n",
       "      <td>1</td>\n",
       "      <td>4</td>\n",
       "      <td>106</td>\n",
       "      <td>Natural</td>\n",
       "      <td>ChipCo      Hony Soy Chckn</td>\n",
       "      <td>175</td>\n",
       "      <td>1</td>\n",
       "      <td>3.0</td>\n",
       "    </tr>\n",
       "    <tr>\n",
       "      <th>4</th>\n",
       "      <td>1004</td>\n",
       "      <td>OLDER SINGLES/COUPLES</td>\n",
       "      <td>Mainstream</td>\n",
       "      <td>1970-01-01 00:00:00.000043406</td>\n",
       "      <td>1</td>\n",
       "      <td>5</td>\n",
       "      <td>96</td>\n",
       "      <td>WW</td>\n",
       "      <td>Original Stacked Chips</td>\n",
       "      <td>160</td>\n",
       "      <td>1</td>\n",
       "      <td>1.9</td>\n",
       "    </tr>\n",
       "  </tbody>\n",
       "</table>\n",
       "</div>"
      ],
      "text/plain": [
       "   LYLTY_CARD_NBR              LIFESTAGE PREMIUM_CUSTOMER  \\\n",
       "0            1000  YOUNG SINGLES/COUPLES          Premium   \n",
       "1            1002  YOUNG SINGLES/COUPLES       Mainstream   \n",
       "2            1003         YOUNG FAMILIES           Budget   \n",
       "3            1003         YOUNG FAMILIES           Budget   \n",
       "4            1004  OLDER SINGLES/COUPLES       Mainstream   \n",
       "\n",
       "                           DATE  STORE_NBR  TXN_ID  PROD_NBR    BRAND  \\\n",
       "0 1970-01-01 00:00:00.000043390          1       1         5  Natural   \n",
       "1 1970-01-01 00:00:00.000043359          1       2        58      Red   \n",
       "2 1970-01-01 00:00:00.000043531          1       3        52    Grain   \n",
       "3 1970-01-01 00:00:00.000043532          1       4       106  Natural   \n",
       "4 1970-01-01 00:00:00.000043406          1       5        96       WW   \n",
       "\n",
       "                   COMPANY_NAME  PACK_SIZE_GRAMS  PROD_QTY  TOT_SALES  \n",
       "0    Chip        Compny SeaSalt              175         2        6.0  \n",
       "1  Rock Deli Chikn&Garlic Aioli              150         1        2.7  \n",
       "2    Waves Sour    Cream&Chives              210         1        3.6  \n",
       "3    ChipCo      Hony Soy Chckn              175         1        3.0  \n",
       "4        Original Stacked Chips              160         1        1.9  "
      ]
     },
     "execution_count": 31,
     "metadata": {},
     "output_type": "execute_result"
    }
   ],
   "source": [
    "purchase_transaction_all=df_purchase.merge(df_transactions, how='left', on='LYLTY_CARD_NBR')\n",
    "purchase_transaction_all.head()"
   ]
  },
  {
   "cell_type": "code",
   "execution_count": 32,
   "id": "e9388f02",
   "metadata": {
    "scrolled": true
   },
   "outputs": [
    {
     "data": {
      "text/plain": [
       "(264836, 12)"
      ]
     },
     "execution_count": 32,
     "metadata": {},
     "output_type": "execute_result"
    }
   ],
   "source": [
    "purchase_transaction_all.shape"
   ]
  },
  {
   "cell_type": "code",
   "execution_count": 33,
   "id": "ffaf4ac5",
   "metadata": {},
   "outputs": [
    {
     "data": {
      "text/html": [
       "<div>\n",
       "<style scoped>\n",
       "    .dataframe tbody tr th:only-of-type {\n",
       "        vertical-align: middle;\n",
       "    }\n",
       "\n",
       "    .dataframe tbody tr th {\n",
       "        vertical-align: top;\n",
       "    }\n",
       "\n",
       "    .dataframe thead th {\n",
       "        text-align: right;\n",
       "    }\n",
       "</style>\n",
       "<table border=\"1\" class=\"dataframe\">\n",
       "  <thead>\n",
       "    <tr style=\"text-align: right;\">\n",
       "      <th></th>\n",
       "      <th>LYLTY_CARD_NBR</th>\n",
       "      <th>STORE_NBR</th>\n",
       "      <th>TXN_ID</th>\n",
       "      <th>PROD_NBR</th>\n",
       "      <th>PACK_SIZE_GRAMS</th>\n",
       "      <th>PROD_QTY</th>\n",
       "      <th>TOT_SALES</th>\n",
       "    </tr>\n",
       "  </thead>\n",
       "  <tbody>\n",
       "    <tr>\n",
       "      <th>count</th>\n",
       "      <td>2.648360e+05</td>\n",
       "      <td>264836.00000</td>\n",
       "      <td>2.648360e+05</td>\n",
       "      <td>264836.000000</td>\n",
       "      <td>264836.000000</td>\n",
       "      <td>264836.000000</td>\n",
       "      <td>264836.000000</td>\n",
       "    </tr>\n",
       "    <tr>\n",
       "      <th>mean</th>\n",
       "      <td>1.355495e+05</td>\n",
       "      <td>135.08011</td>\n",
       "      <td>1.351583e+05</td>\n",
       "      <td>56.583157</td>\n",
       "      <td>182.427004</td>\n",
       "      <td>1.907309</td>\n",
       "      <td>7.304200</td>\n",
       "    </tr>\n",
       "    <tr>\n",
       "      <th>std</th>\n",
       "      <td>8.057998e+04</td>\n",
       "      <td>76.78418</td>\n",
       "      <td>7.813303e+04</td>\n",
       "      <td>32.826638</td>\n",
       "      <td>64.327196</td>\n",
       "      <td>0.643654</td>\n",
       "      <td>3.083226</td>\n",
       "    </tr>\n",
       "    <tr>\n",
       "      <th>min</th>\n",
       "      <td>1.000000e+03</td>\n",
       "      <td>1.00000</td>\n",
       "      <td>1.000000e+00</td>\n",
       "      <td>1.000000</td>\n",
       "      <td>70.000000</td>\n",
       "      <td>1.000000</td>\n",
       "      <td>1.500000</td>\n",
       "    </tr>\n",
       "    <tr>\n",
       "      <th>25%</th>\n",
       "      <td>7.002100e+04</td>\n",
       "      <td>70.00000</td>\n",
       "      <td>6.760150e+04</td>\n",
       "      <td>28.000000</td>\n",
       "      <td>150.000000</td>\n",
       "      <td>2.000000</td>\n",
       "      <td>5.400000</td>\n",
       "    </tr>\n",
       "    <tr>\n",
       "      <th>50%</th>\n",
       "      <td>1.303575e+05</td>\n",
       "      <td>130.00000</td>\n",
       "      <td>1.351375e+05</td>\n",
       "      <td>56.000000</td>\n",
       "      <td>170.000000</td>\n",
       "      <td>2.000000</td>\n",
       "      <td>7.400000</td>\n",
       "    </tr>\n",
       "    <tr>\n",
       "      <th>75%</th>\n",
       "      <td>2.030942e+05</td>\n",
       "      <td>203.00000</td>\n",
       "      <td>2.027012e+05</td>\n",
       "      <td>85.000000</td>\n",
       "      <td>175.000000</td>\n",
       "      <td>2.000000</td>\n",
       "      <td>9.200000</td>\n",
       "    </tr>\n",
       "    <tr>\n",
       "      <th>max</th>\n",
       "      <td>2.373711e+06</td>\n",
       "      <td>272.00000</td>\n",
       "      <td>2.415841e+06</td>\n",
       "      <td>114.000000</td>\n",
       "      <td>380.000000</td>\n",
       "      <td>200.000000</td>\n",
       "      <td>650.000000</td>\n",
       "    </tr>\n",
       "  </tbody>\n",
       "</table>\n",
       "</div>"
      ],
      "text/plain": [
       "       LYLTY_CARD_NBR     STORE_NBR        TXN_ID       PROD_NBR  \\\n",
       "count    2.648360e+05  264836.00000  2.648360e+05  264836.000000   \n",
       "mean     1.355495e+05     135.08011  1.351583e+05      56.583157   \n",
       "std      8.057998e+04      76.78418  7.813303e+04      32.826638   \n",
       "min      1.000000e+03       1.00000  1.000000e+00       1.000000   \n",
       "25%      7.002100e+04      70.00000  6.760150e+04      28.000000   \n",
       "50%      1.303575e+05     130.00000  1.351375e+05      56.000000   \n",
       "75%      2.030942e+05     203.00000  2.027012e+05      85.000000   \n",
       "max      2.373711e+06     272.00000  2.415841e+06     114.000000   \n",
       "\n",
       "       PACK_SIZE_GRAMS       PROD_QTY      TOT_SALES  \n",
       "count    264836.000000  264836.000000  264836.000000  \n",
       "mean        182.427004       1.907309       7.304200  \n",
       "std          64.327196       0.643654       3.083226  \n",
       "min          70.000000       1.000000       1.500000  \n",
       "25%         150.000000       2.000000       5.400000  \n",
       "50%         170.000000       2.000000       7.400000  \n",
       "75%         175.000000       2.000000       9.200000  \n",
       "max         380.000000     200.000000     650.000000  "
      ]
     },
     "execution_count": 33,
     "metadata": {},
     "output_type": "execute_result"
    }
   ],
   "source": [
    "purchase_transaction_all.describe()"
   ]
  },
  {
   "cell_type": "code",
   "execution_count": 34,
   "id": "4504ca71",
   "metadata": {},
   "outputs": [
    {
     "data": {
      "text/plain": [
       "LYLTY_CARD_NBR         0\n",
       "LIFESTAGE              0\n",
       "PREMIUM_CUSTOMER       0\n",
       "DATE                   0\n",
       "STORE_NBR              0\n",
       "TXN_ID                 0\n",
       "PROD_NBR               0\n",
       "BRAND                  0\n",
       "COMPANY_NAME        3257\n",
       "PACK_SIZE_GRAMS        0\n",
       "PROD_QTY               0\n",
       "TOT_SALES              0\n",
       "dtype: int64"
      ]
     },
     "execution_count": 34,
     "metadata": {},
     "output_type": "execute_result"
    }
   ],
   "source": [
    "purchase_transaction_all.isnull().sum()\n"
   ]
  },
  {
   "cell_type": "code",
   "execution_count": 35,
   "id": "3661709d",
   "metadata": {},
   "outputs": [
    {
     "data": {
      "text/plain": [
       "72637"
      ]
     },
     "execution_count": 35,
     "metadata": {},
     "output_type": "execute_result"
    }
   ],
   "source": [
    "purchase_transaction_all.LYLTY_CARD_NBR.nunique()\n",
    "\n",
    "## The number of unique customers"
   ]
  },
  {
   "cell_type": "markdown",
   "id": "413356f6",
   "metadata": {},
   "source": [
    "# DATA EXPLORATION"
   ]
  },
  {
   "cell_type": "code",
   "execution_count": 36,
   "id": "c0cabf10",
   "metadata": {},
   "outputs": [],
   "source": [
    "sns.set(style=\"darkgrid\")\n"
   ]
  },
  {
   "cell_type": "markdown",
   "id": "ae0f7324",
   "metadata": {},
   "source": [
    "## Distribution In Premium Customer Segments"
   ]
  },
  {
   "cell_type": "code",
   "execution_count": 37,
   "id": "9b0a5ce2",
   "metadata": {
    "scrolled": false
   },
   "outputs": [
    {
     "data": {
      "text/plain": [
       "Text(0.5, 1.0, 'Premium Customer Segments')"
      ]
     },
     "execution_count": 37,
     "metadata": {},
     "output_type": "execute_result"
    },
    {
     "data": {
      "image/png": "[encoded data removed]",
      "text/plain": [
       "<Figure size 432x432 with 1 Axes>"
      ]
     },
     "metadata": {},
     "output_type": "display_data"
    }
   ],
   "source": [
    "plt.figure(figsize=(6,6))\n",
    "sns.countplot(x='PREMIUM_CUSTOMER',data=purchase_transaction_all)\n",
    "plt.title('Premium Customer Segments')\n"
   ]
  },
  {
   "cell_type": "markdown",
   "id": "70f7d548",
   "metadata": {},
   "source": [
    "## Distribution Customer Life Stages"
   ]
  },
  {
   "cell_type": "code",
   "execution_count": 38,
   "id": "34169d20",
   "metadata": {},
   "outputs": [
    {
     "data": {
      "text/plain": [
       "Text(0.5, 1.0, 'Customer Lifestages')"
      ]
     },
     "execution_count": 38,
     "metadata": {},
     "output_type": "execute_result"
    },
    {
     "data": {
      "image/png": "[encoded data removed]",
      "text/plain": [
       "<Figure size 1440x720 with 1 Axes>"
      ]
     },
     "metadata": {},
     "output_type": "display_data"
    }
   ],
   "source": [
    "plt.figure(figsize=(20,10))\n",
    "sns.countplot(x=\"LIFESTAGE\", data=purchase_transaction_all,palette=\"dark\")\n",
    "plt.title(\"Customer Lifestages\")"
   ]
  },
  {
   "cell_type": "markdown",
   "id": "168f31d3",
   "metadata": {},
   "source": [
    "## DIstribution In Number of Times Similar Customer Purchased During the Period"
   ]
  },
  {
   "cell_type": "code",
   "execution_count": 39,
   "id": "4d013f96",
   "metadata": {
    "scrolled": false
   },
   "outputs": [
    {
     "data": {
      "text/plain": [
       "162039     18\n",
       "172032     18\n",
       "13138      17\n",
       "116181     17\n",
       "128178     17\n",
       "           ..\n",
       "143033      1\n",
       "143029      1\n",
       "143027      1\n",
       "143026      1\n",
       "2373711     1\n",
       "Name: LYLTY_CARD_NBR, Length: 72637, dtype: int64"
      ]
     },
     "execution_count": 39,
     "metadata": {},
     "output_type": "execute_result"
    }
   ],
   "source": [
    "Multi_Purchases=purchase_transaction_all.LYLTY_CARD_NBR.value_counts()\n",
    "Multi_Purchases"
   ]
  },
  {
   "cell_type": "code",
   "execution_count": 40,
   "id": "f610214b",
   "metadata": {},
   "outputs": [
    {
     "name": "stderr",
     "output_type": "stream",
     "text": [
      "C:\\Users\\User\\anaconda3\\lib\\site-packages\\seaborn\\_decorators.py:36: FutureWarning: Pass the following variable as a keyword arg: x. From version 0.12, the only valid positional argument will be `data`, and passing other arguments without an explicit keyword will result in an error or misinterpretation.\n",
      "  warnings.warn(\n"
     ]
    },
    {
     "data": {
      "text/plain": [
       "Text(0.5, 1.0, 'Number of Purchases By Single LYLTY_CARD_NBR ')"
      ]
     },
     "execution_count": 40,
     "metadata": {},
     "output_type": "execute_result"
    },
    {
     "data": {
      "image/png": "[encoded data removed]",
      "text/plain": [
       "<Figure size 1440x720 with 1 Axes>"
      ]
     },
     "metadata": {},
     "output_type": "display_data"
    }
   ],
   "source": [
    "plt.figure(figsize=(20,10))\n",
    "sns.countplot(Multi_Purchases,palette=\"Set2\")\n",
    "plt.title('Number of Purchases By Single LYLTY_CARD_NBR ')\n",
    "\n",
    "\n",
    "# This shows most customers Purchased Once during the period\n",
    "# Highest number of times a single customer purchased during the period was 18 times"
   ]
  },
  {
   "cell_type": "markdown",
   "id": "463396e3",
   "metadata": {},
   "source": [
    "## Total Transactions Per LIfestage"
   ]
  },
  {
   "cell_type": "code",
   "execution_count": 41,
   "id": "c1fde961",
   "metadata": {},
   "outputs": [
    {
     "data": {
      "text/plain": [
       "Text(0.5, 1.0, 'Total Transactions Per Lifestage')"
      ]
     },
     "execution_count": 41,
     "metadata": {},
     "output_type": "execute_result"
    },
    {
     "data": {
      "image/png": "[encoded data removed]",
      "text/plain": [
       "<Figure size 576x576 with 1 Axes>"
      ]
     },
     "metadata": {},
     "output_type": "display_data"
    }
   ],
   "source": [
    "total_transactions=purchase_transaction_all.LIFESTAGE.value_counts().reset_index(name=\"TOT_SALES\")\n",
    "g=sns.catplot(x='index',y=\"TOT_SALES\",data=total_transactions,height=8,kind='bar',palette='rocket')\n",
    "g.despine(left=True)\n",
    "g.set_xlabels(\"Lifestages\")\n",
    "g.set_ylabels(\"Total Transactions\")\n",
    "plt.xticks(rotation=\"vertical\",size=10)\n",
    "\n",
    "plt.title('Total Transactions Per Lifestage')\n"
   ]
  },
  {
   "cell_type": "markdown",
   "id": "dd7007f7",
   "metadata": {},
   "source": [
    "## Total Transactions Per Customer Premium-ship"
   ]
  },
  {
   "cell_type": "code",
   "execution_count": 42,
   "id": "10c2efb1",
   "metadata": {},
   "outputs": [
    {
     "data": {
      "text/plain": [
       "Text(0.5, 1.0, 'Total Transactions Per Premium_customer')"
      ]
     },
     "execution_count": 42,
     "metadata": {},
     "output_type": "execute_result"
    },
    {
     "data": {
      "image/png": "[encoded data removed]",
      "text/plain": [
       "<Figure size 576x576 with 1 Axes>"
      ]
     },
     "metadata": {},
     "output_type": "display_data"
    }
   ],
   "source": [
    "total_transactions=purchase_transaction_all.PREMIUM_CUSTOMER.value_counts().reset_index(name=\"PREMIUM_CUSTOMER\")\n",
    "g=sns.catplot(x='index',y=\"PREMIUM_CUSTOMER\",data=total_transactions,height=8,kind='bar',palette='bright')\n",
    "g.despine(left=True)\n",
    "g.set_xlabels(\"Premium_Customer\")\n",
    "g.set_ylabels(\"Total Transactions\")\n",
    "\n",
    "plt.title('Total Transactions Per Premium_customer')\n"
   ]
  },
  {
   "cell_type": "markdown",
   "id": "c10121fb",
   "metadata": {},
   "source": [
    "## Store_Wise Performance"
   ]
  },
  {
   "cell_type": "code",
   "execution_count": 43,
   "id": "05217488",
   "metadata": {},
   "outputs": [
    {
     "name": "stderr",
     "output_type": "stream",
     "text": [
      "C:\\Users\\User\\anaconda3\\lib\\site-packages\\seaborn\\distributions.py:2619: FutureWarning: `distplot` is a deprecated function and will be removed in a future version. Please adapt your code to use either `displot` (a figure-level function with similar flexibility) or `histplot` (an axes-level function for histograms).\n",
      "  warnings.warn(msg, FutureWarning)\n"
     ]
    },
    {
     "data": {
      "text/plain": [
       "Text(0.5, 1.0, 'Performance Store_wise')"
      ]
     },
     "execution_count": 43,
     "metadata": {},
     "output_type": "execute_result"
    },
    {
     "data": {
      "image/png": "[encoded data removed]",
      "text/plain": [
       "<Figure size 864x432 with 1 Axes>"
      ]
     },
     "metadata": {},
     "output_type": "display_data"
    }
   ],
   "source": [
    "plt.figure(figsize=(12,6))\n",
    "sns.distplot(purchase_transaction_all.STORE_NBR)\n",
    "plt.title('Performance Store_wise')"
   ]
  },
  {
   "cell_type": "markdown",
   "id": "4b475b80",
   "metadata": {},
   "source": [
    "## Pack sizes Distribution In Grams"
   ]
  },
  {
   "cell_type": "code",
   "execution_count": 44,
   "id": "7e8b4f6b",
   "metadata": {
    "scrolled": true
   },
   "outputs": [
    {
     "name": "stderr",
     "output_type": "stream",
     "text": [
      "C:\\Users\\User\\anaconda3\\lib\\site-packages\\seaborn\\distributions.py:2619: FutureWarning: `distplot` is a deprecated function and will be removed in a future version. Please adapt your code to use either `displot` (a figure-level function with similar flexibility) or `histplot` (an axes-level function for histograms).\n",
      "  warnings.warn(msg, FutureWarning)\n"
     ]
    },
    {
     "data": {
      "text/plain": [
       "<function matplotlib.pyplot.show(close=None, block=None)>"
      ]
     },
     "execution_count": 44,
     "metadata": {},
     "output_type": "execute_result"
    },
    {
     "data": {
      "image/png": "[encoded data removed]",
      "text/plain": [
       "<Figure size 432x432 with 1 Axes>"
      ]
     },
     "metadata": {},
     "output_type": "display_data"
    }
   ],
   "source": [
    "plt.figure(figsize=(6,6))\n",
    "sns.distplot(purchase_transaction_all['PACK_SIZE_GRAMS'])\n",
    "plt.title('Pack Sizes In Grams')\n",
    "plt.show"
   ]
  },
  {
   "cell_type": "markdown",
   "id": "ceb99136",
   "metadata": {},
   "source": [
    "## Distribution In Product Quantity"
   ]
  },
  {
   "cell_type": "code",
   "execution_count": 45,
   "id": "8e668c8b",
   "metadata": {},
   "outputs": [
    {
     "name": "stderr",
     "output_type": "stream",
     "text": [
      "C:\\Users\\User\\anaconda3\\lib\\site-packages\\seaborn\\_decorators.py:36: FutureWarning: Pass the following variable as a keyword arg: x. From version 0.12, the only valid positional argument will be `data`, and passing other arguments without an explicit keyword will result in an error or misinterpretation.\n",
      "  warnings.warn(\n"
     ]
    },
    {
     "data": {
      "text/plain": [
       "<function matplotlib.pyplot.show(close=None, block=None)>"
      ]
     },
     "execution_count": 45,
     "metadata": {},
     "output_type": "execute_result"
    },
    {
     "data": {
      "image/png": "[encoded data removed]",
      "text/plain": [
       "<Figure size 432x288 with 1 Axes>"
      ]
     },
     "metadata": {},
     "output_type": "display_data"
    }
   ],
   "source": [
    "sns.countplot(purchase_transaction_all['PROD_QTY'])\n",
    "plt.title('Product Quantity')\n",
    "plt.show\n",
    "\n",
    "# Most products are bought in pairs"
   ]
  },
  {
   "cell_type": "code",
   "execution_count": null,
   "id": "86dd5a7f",
   "metadata": {},
   "outputs": [],
   "source": []
  }
 ],
 "metadata": {
  "kernelspec": {
   "display_name": "Python 3 (ipykernel)",
   "language": "python",
   "name": "python3"
  },
  "language_info": {
   "codemirror_mode": {
    "name": "ipython",
    "version": 3
   },
   "file_extension": ".py",
   "mimetype": "text/x-python",
   "name": "python",
   "nbconvert_exporter": "python",
   "pygments_lexer": "ipython3",
   "version": "3.8.11"
  }
 },
 "nbformat": 4,
 "nbformat_minor": 5
}
